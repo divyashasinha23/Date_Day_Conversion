{
 "cells": [
  {
   "cell_type": "code",
   "execution_count": 1,
   "metadata": {},
   "outputs": [],
   "source": [
    "import datetime \n",
    "import calendar \n",
    "  \n",
    "# date to day conversion\n",
    "\n",
    "def findDay(date): \n",
    "    DAY = datetime.datetime.strptime(date, '%Y-%m-%d').weekday() \n",
    "    return (calendar.day_name[DAY]) \n",
    "  \n",
    "# required function\n",
    "\n",
    "def d(D):\n",
    "    Days = ['Mon','Tue','Wed','Thu','Fri','Sat','Sun']\n",
    "    for each in list(D.keys()):\n",
    "        Day = findDay(each)[0:3]\n",
    "        if Day in D.keys():\n",
    "            D[Day]= D[Day]+D.pop(each)\n",
    "        else:\n",
    "            D[Day]=D.pop(each)\n",
    "    for  i in Days:\n",
    "        if i not in list(D.keys()):\n",
    "            D[i] = int((D[Days[Days.index(i)-1]]+D[Days[Days.index(i)+1]])/2)\n",
    "    L = dict(sorted(D.items(),key =lambda x:Days.index(x[0])))\n",
    "        \n",
    "    return L   "
   ]
  },
  {
   "cell_type": "code",
   "execution_count": 2,
   "metadata": {},
   "outputs": [],
   "source": [
    "D = {'2020-01-01':4,'2020-01-02':4,'2020-01-03':6,'2020-01-04':8,'2020-01-05':2,'2020-01-06':-6,'2020-01-07':2,'2020-01-08':-2}"
   ]
  },
  {
   "cell_type": "code",
   "execution_count": 3,
   "metadata": {},
   "outputs": [
    {
     "data": {
      "text/plain": [
       "{'Mon': -6, 'Tue': 2, 'Wed': 2, 'Thu': 4, 'Fri': 6, 'Sat': 8, 'Sun': 2}"
      ]
     },
     "execution_count": 3,
     "metadata": {},
     "output_type": "execute_result"
    }
   ],
   "source": [
    "d(D)"
   ]
  },
  {
   "cell_type": "code",
   "execution_count": 4,
   "metadata": {},
   "outputs": [],
   "source": [
    "D = {'2020-01-01':4,'2020-01-02':4,'2020-01-03':6,'2020-01-04':8,'2020-01-05':2,'2020-01-07':2,'2020-01-08':-2}"
   ]
  },
  {
   "cell_type": "code",
   "execution_count": 5,
   "metadata": {},
   "outputs": [
    {
     "data": {
      "text/plain": [
       "{'Mon': 2, 'Tue': 2, 'Wed': 2, 'Thu': 4, 'Fri': 6, 'Sat': 8, 'Sun': 2}"
      ]
     },
     "execution_count": 5,
     "metadata": {},
     "output_type": "execute_result"
    }
   ],
   "source": [
    "d(D)"
   ]
  },
  {
   "cell_type": "code",
   "execution_count": null,
   "metadata": {},
   "outputs": [],
   "source": []
  }
 ],
 "metadata": {
  "kernelspec": {
   "display_name": "Python 3",
   "language": "python",
   "name": "python3"
  },
  "language_info": {
   "codemirror_mode": {
    "name": "ipython",
    "version": 3
   },
   "file_extension": ".py",
   "mimetype": "text/x-python",
   "name": "python",
   "nbconvert_exporter": "python",
   "pygments_lexer": "ipython3",
   "version": "3.7.6"
  }
 },
 "nbformat": 4,
 "nbformat_minor": 4
}
